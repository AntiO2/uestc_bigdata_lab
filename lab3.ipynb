{
 "cells": [
  {
   "cell_type": "markdown",
   "metadata": {},
   "source": [
    "## Load Data\n",
    "\n",
    "从Hdfs加载数据"
   ]
  },
  {
   "cell_type": "code",
   "execution_count": 6,
   "metadata": {},
   "outputs": [
    {
     "name": "stderr",
     "output_type": "stream",
     "text": [
      "                                                                                \r"
     ]
    }
   ],
   "source": [
    "df = spark.read.csv(\"hdfs://localhost:9000/user/hadoop/DataExpo2009/198*.csv\",\n",
    "                    header=True, inferSchema=True)\n",
    "\n",
    "df2 = spark.read.csv(\"hdfs://localhost:9000/user/hadoop/DataExpo2009/2001.csv\",\n",
    "                    header=True, inferSchema=True)"
   ]
  },
  {
   "cell_type": "code",
   "execution_count": 7,
   "metadata": {},
   "outputs": [
    {
     "name": "stdout",
     "output_type": "stream",
     "text": [
      "root\n",
      " |-- Year: integer (nullable = true)\n",
      " |-- Month: integer (nullable = true)\n",
      " |-- DayofMonth: integer (nullable = true)\n",
      " |-- DayOfWeek: integer (nullable = true)\n",
      " |-- DepTime: string (nullable = true)\n",
      " |-- CRSDepTime: integer (nullable = true)\n",
      " |-- ArrTime: string (nullable = true)\n",
      " |-- CRSArrTime: integer (nullable = true)\n",
      " |-- UniqueCarrier: string (nullable = true)\n",
      " |-- FlightNum: integer (nullable = true)\n",
      " |-- TailNum: string (nullable = true)\n",
      " |-- ActualElapsedTime: string (nullable = true)\n",
      " |-- CRSElapsedTime: integer (nullable = true)\n",
      " |-- AirTime: string (nullable = true)\n",
      " |-- ArrDelay: string (nullable = true)\n",
      " |-- DepDelay: string (nullable = true)\n",
      " |-- Origin: string (nullable = true)\n",
      " |-- Dest: string (nullable = true)\n",
      " |-- Distance: string (nullable = true)\n",
      " |-- TaxiIn: string (nullable = true)\n",
      " |-- TaxiOut: string (nullable = true)\n",
      " |-- Cancelled: integer (nullable = true)\n",
      " |-- CancellationCode: string (nullable = true)\n",
      " |-- Diverted: integer (nullable = true)\n",
      " |-- CarrierDelay: string (nullable = true)\n",
      " |-- WeatherDelay: string (nullable = true)\n",
      " |-- NASDelay: string (nullable = true)\n",
      " |-- SecurityDelay: string (nullable = true)\n",
      " |-- LateAircraftDelay: string (nullable = true)\n",
      "\n"
     ]
    }
   ],
   "source": [
    "df.printSchema()\n"
   ]
  },
  {
   "cell_type": "code",
   "execution_count": 3,
   "metadata": {},
   "outputs": [
    {
     "name": "stderr",
     "output_type": "stream",
     "text": [
      "[Stage 2:===========================================>              (9 + 3) / 12]\r"
     ]
    },
    {
     "name": "stdout",
     "output_type": "stream",
     "text": [
      "+-------------+---------+------------------+\n",
      "|UniqueCarrier|FlightNum|   avg(TotalDelay)|\n",
      "+-------------+---------+------------------+\n",
      "|       PA (1)|     2238|             425.0|\n",
      "|       PA (1)|      233|272.38461538461536|\n",
      "|           US|     2099|             261.5|\n",
      "|           UA|     1821|             243.0|\n",
      "|           EA|     1602|238.66666666666666|\n",
      "|           AS|     6062|             229.0|\n",
      "|           PS|     1582|             204.0|\n",
      "|           US|     2287|             192.0|\n",
      "|           EA|     1855|             189.5|\n",
      "|           US|      779|             183.5|\n",
      "+-------------+---------+------------------+\n",
      "only showing top 10 rows\n",
      "\n"
     ]
    },
    {
     "name": "stderr",
     "output_type": "stream",
     "text": [
      "                                                                                \r"
     ]
    }
   ],
   "source": [
    "from pyspark.sql.functions import *\n",
    "\n",
    "df = df.withColumn('TotalDelay',col('ArrDelay')+col('DepDelay')) # 计算出总延误时间\n",
    "each_flight_stats= df.groupby(['UniqueCarrier','FlightNum'])\n",
    "total_delay_stats = each_flight_stats.mean('TotalDelay')\n",
    "total_delay_stats.orderBy(desc('avg(TotalDelay)')).show(10) \n"
   ]
  },
  {
   "cell_type": "code",
   "execution_count": 12,
   "metadata": {},
   "outputs": [
    {
     "name": "stderr",
     "output_type": "stream",
     "text": [
      "[Stage 16:==============================================>         (10 + 2) / 12]\r"
     ]
    },
    {
     "name": "stdout",
     "output_type": "stream",
     "text": [
      "+-------------+----------+------------+\n",
      "|UniqueCarrier|DelayCount|TotalFlights|\n",
      "+-------------+----------+------------+\n",
      "|           UA|    711254|     1314442|\n",
      "|           EA|    320028|      667772|\n",
      "|           PI|    584091|      873957|\n",
      "|           PS|     47913|       83617|\n",
      "|           AA|    758305|     1583130|\n",
      "|           NW|    555198|      991465|\n",
      "|           HP|    248258|      421858|\n",
      "|           TW|    349491|      621940|\n",
      "|           DL|   1074239|     1723116|\n",
      "|           US|    816132|     1301539|\n",
      "|           AS|    123354|      200350|\n",
      "|           CO|    469970|      990355|\n",
      "|       PA (1)|     94252|      168382|\n",
      "|           WN|    277632|      613199|\n",
      "+-------------+----------+------------+\n",
      "\n"
     ]
    },
    {
     "name": "stderr",
     "output_type": "stream",
     "text": [
      "                                                                                \r"
     ]
    }
   ],
   "source": [
    "\n",
    "from pyspark.sql.functions import *\n",
    "\n",
    "unique_carrier_stats = df.groupby('UniqueCarrier')\n",
    "\n",
    "# 进行聚合统计\n",
    "unique_carrier_stats = unique_carrier_stats.agg(\n",
    "    count(when(col('ArrDelay') > 0, True)).alias('DelayCount'),\n",
    "    count('*').alias('TotalFlights')\n",
    ")\n",
    "\n",
    "# 显示每个航空公司延误航班和准时航班数量结果\n",
    "unique_carrier_stats.show()\n"
   ]
  },
  {
   "cell_type": "code",
   "execution_count": 13,
   "metadata": {},
   "outputs": [
    {
     "name": "stderr",
     "output_type": "stream",
     "text": [
      "[Stage 19:==========================================>              (9 + 3) / 12]\r"
     ]
    },
    {
     "name": "stdout",
     "output_type": "stream",
     "text": [
      "+-------------+----------+------------+------------------+\n",
      "|UniqueCarrier|DelayCount|TotalFlights|         DelayRate|\n",
      "+-------------+----------+------------+------------------+\n",
      "|           UA|    711254|     1314442|54.110717703786094|\n",
      "|           EA|    320028|      667772|47.924740779787115|\n",
      "|           PI|    584091|      873957| 66.83292198586429|\n",
      "|           PS|     47913|       83617| 57.30054893143739|\n",
      "|           AA|    758305|     1583130|47.899098621086075|\n",
      "|           NW|    555198|      991465| 55.99774071701976|\n",
      "|           HP|    248258|      421858| 58.84871212588122|\n",
      "|           TW|    349491|      621940|  56.1936842782262|\n",
      "|           DL|   1074239|     1723116|62.342813832614866|\n",
      "|           US|    816132|     1301539|62.705151363117054|\n",
      "|           AS|    123354|      200350|61.569253805839786|\n",
      "|           CO|    469970|      990355| 47.45470058716319|\n",
      "|       PA (1)|     94252|      168382|55.975104227292704|\n",
      "|           WN|    277632|      613199| 45.27600338552411|\n",
      "+-------------+----------+------------+------------------+\n",
      "\n"
     ]
    },
    {
     "name": "stderr",
     "output_type": "stream",
     "text": [
      "                                                                                \r"
     ]
    }
   ],
   "source": [
    "unique_carrier_delay_stats = unique_carrier_stats.withColumn('DelayRate', \n",
    "        (col('DelayCount') / col('TotalFlights')) * 100)\n",
    "\n",
    "unique_carrier_delay_stats.show()"
   ]
  },
  {
   "cell_type": "code",
   "execution_count": null,
   "metadata": {},
   "outputs": [
    {
     "data": {
      "image/png": "[encoded data removed]",
      "text/plain": [
       "<Figure size 1200x600 with 1 Axes>"
      ]
     },
     "metadata": {},
     "output_type": "display_data"
    }
   ],
   "source": [
    "import matplotlib.pyplot as plt\n",
    "import numpy as np\n",
    "\n",
    "# 将 PySpark DataFrame 转换为 Pandas DataFrame\n",
    "unique_carrier_delay_stats_pd = unique_carrier_delay_stats.toPandas()\n",
    "plt.rcParams['font.sans-serif']=['SimHei'] \n",
    "\n",
    "carriers = unique_carrier_delay_stats_pd['UniqueCarrier']\n",
    "delay_rates = unique_carrier_delay_stats_pd['DelayRate']\n",
    "\n",
    "x = np.arange(len(carriers))\n",
    "height = 1 \n",
    "\n",
    "fig, ax = plt.subplots(figsize=(12, 6))\n",
    "bars = ax.bar(x, height, color='lightgray', edgecolor='black') \n",
    "\n",
    "for i, rate in enumerate(delay_rates):\n",
    "    ax.bar(x[i], height * (rate / 100), color='skyblue', edgecolor='black')  # 蓝色部分表示延误比例\n",
    "\n",
    "ax.set_xlabel('UniqueCarrier')\n",
    "ax.set_ylabel('Delay Rate (%)')\n",
    "ax.set_title('航司延误航班比例')\n",
    "ax.set_xticks(x)\n",
    "ax.set_xticklabels(carriers, rotation=45)\n",
    "\n",
    "for i, rate in enumerate(delay_rates):\n",
    "    ax.text(x[i], height + 0.02, f'{rate:.2f}%', ha='center', va='bottom')\n",
    "\n",
    "plt.tight_layout()\n",
    "\n",
    "plt.savefig('delay_rate_by_unique_carrier.png', dpi=300)\n",
    "\n",
    "plt.show()"
   ]
  },
  {
   "cell_type": "code",
   "execution_count": 24,
   "metadata": {},
   "outputs": [],
   "source": [
    "# 添加Hour\n",
    "df = df.withColumn('Hour', (col('CRSDepTime') / 100).cast('int'))\n",
    "df2 = df2.withColumn('Hour', (col('CRSDepTime') / 100).cast('int'))"
   ]
  },
  {
   "cell_type": "code",
   "execution_count": 16,
   "metadata": {},
   "outputs": [
    {
     "name": "stderr",
     "output_type": "stream",
     "text": [
      "[Stage 27:===================================================>    (11 + 1) / 12]\r"
     ]
    },
    {
     "name": "stdout",
     "output_type": "stream",
     "text": [
      "+----+------------+------------+-------------------+\n",
      "|Hour|TotalFlights|DelayFlights|          DelayRate|\n",
      "+----+------------+------------+-------------------+\n",
      "|  16|      746919|      448303| 0.6002029671222716|\n",
      "|  17|      790991|      465943| 0.5890623281427981|\n",
      "|  20|      639281|      376476| 0.5889053483522895|\n",
      "|  18|      778040|      456205| 0.5863516014600791|\n",
      "|  15|      675097|      390495|  0.578427988866785|\n",
      "|  19|      599414|      342133|  0.570779127614637|\n",
      "|  14|      657151|      370889|  0.564389310828105|\n",
      "|  13|      790020|      445752|  0.564228753702438|\n",
      "|  11|      720692|      399677| 0.5545739372714003|\n",
      "|  12|      756775|      419639| 0.5545095966436523|\n",
      "|  21|      381657|      208564| 0.5464697359147087|\n",
      "|   9|      772889|      421655| 0.5455569946007771|\n",
      "|  22|      176049|       95093| 0.5401507534834052|\n",
      "|  10|      622678|      334448| 0.5371122795409505|\n",
      "|   8|      876885|      464543| 0.5297650204986971|\n",
      "|   7|      845122|      441199| 0.5220536206606857|\n",
      "|  23|       96623|       48995|  0.507073885099821|\n",
      "|   6|      530634|      256596|0.48356494306810344|\n",
      "|   0|       36611|       17068|0.46619868345579196|\n",
      "|   1|       30547|       13699|0.44845647690444235|\n",
      "|   5|       20522|        8784|0.42802845726537375|\n",
      "|   2|        5390|        2124| 0.3940630797773655|\n",
      "|   4|        2571|        1012|0.39362115908206924|\n",
      "|  24|           3|           1| 0.3333333333333333|\n",
      "+----+------------+------------+-------------------+\n",
      "only showing top 24 rows\n",
      "\n"
     ]
    },
    {
     "name": "stderr",
     "output_type": "stream",
     "text": [
      "                                                                                \r"
     ]
    }
   ],
   "source": [
    "# 分析一天中延误最严重的飞行时间\n",
    "\n",
    "# Step 1: 添加 'Hour' 列\n",
    "df_with_hour = df.withColumn('Hour', (col('CRSDepTime') / 100).cast('int'))\n",
    "\n",
    "\n",
    "# Step 2: 分组统计\n",
    "delay_by_hour = df_with_hour.groupBy('Hour') \\\n",
    "    .agg(\n",
    "        count('*').alias('TotalFlights'), \n",
    "        count(when(col('ArrDelay') > 0, True)).alias('DelayFlights')\n",
    "    )\n",
    "\n",
    "# Step 3: 计算延误率\n",
    "delay_by_hour = delay_by_hour.withColumn('DelayRate', col('DelayFlights') / col('TotalFlights'))\n",
    "\n",
    "# Step 4: 排序并显示结果\n",
    "delay_by_hour = delay_by_hour.orderBy(desc('DelayRate'))\n",
    "\n",
    "# 显示最终结果\n",
    "delay_by_hour.show(24)\n",
    "        \n",
    "\n"
   ]
  },
  {
   "cell_type": "code",
   "execution_count": 27,
   "metadata": {},
   "outputs": [
    {
     "data": {
      "image/png": "[encoded data removed]",
      "text/plain": [
       "<Figure size 1200x600 with 1 Axes>"
      ]
     },
     "metadata": {},
     "output_type": "display_data"
    }
   ],
   "source": [
    "import matplotlib.pyplot as plt\n",
    "\n",
    "# 将 PySpark DataFrame 转换为 Pandas DataFrame\n",
    "delay_by_hour_pd = delay_by_hour.toPandas()\n",
    "\n",
    "hours = delay_by_hour_pd['Hour']\n",
    "delay_rates = delay_by_hour_pd['DelayRate']\n",
    "\n",
    "fig, ax = plt.subplots(figsize=(12, 6))\n",
    "ax.bar(hours, delay_rates, color='skyblue', edgecolor='black')\n",
    "\n",
    "ax.set_xlabel('Hour of the Day')\n",
    "ax.set_ylabel('Delay Rate')\n",
    "ax.set_title('一天中不同时间延误比例')\n",
    "\n",
    "ax.set_xticks(range(24))\n",
    "ax.set_xticklabels(range(24))\n",
    "\n",
    "for i, rate in enumerate(delay_rates):\n",
    "    ax.text(hours[i], rate + 0.01, f'{rate:.2%}', ha='center', va='bottom')\n",
    "\n",
    "plt.tight_layout()\n",
    "\n",
    "plt.savefig('delay_rate_by_hour.png', dpi=300)\n",
    "\n",
    "plt.show()"
   ]
  },
  {
   "cell_type": "code",
   "execution_count": 18,
   "metadata": {},
   "outputs": [
    {
     "name": "stderr",
     "output_type": "stream",
     "text": [
      "[Stage 38:==============================================>         (10 + 2) / 12]\r"
     ]
    },
    {
     "name": "stdout",
     "output_type": "stream",
     "text": [
      "+---------+------------+------------+------------------+\n",
      "|DayOfWeek|TotalFlights|DelayFlights|         DelayRate|\n",
      "+---------+------------+------------+------------------+\n",
      "|        4|     1685334|     1006515|0.5972198982516225|\n",
      "|        3|     1683378|      989605|0.5878685595273313|\n",
      "|        5|     1682825|      984940|0.5852896171616181|\n",
      "|        2|     1682782|      960769|0.5709408586495458|\n",
      "|        1|     1680068|      906798|0.5397388677124973|\n",
      "|        7|     1601490|      822913| 0.513842109535495|\n",
      "|        6|     1539245|      758577|0.4928240793375973|\n",
      "+---------+------------+------------+------------------+\n",
      "\n"
     ]
    },
    {
     "name": "stderr",
     "output_type": "stream",
     "text": [
      "                                                                                \r"
     ]
    }
   ],
   "source": [
    "delay_by_day_of_week = df.groupBy('DayOfWeek') \\\n",
    "    .agg((count('*')).alias('TotalFlights'),(count(when(col('ArrDelay')>0,True))).alias('DelayFlights')) \\\n",
    "    .withColumn('DelayRate',col('DelayFlights')/col('TotalFlights')) \\\n",
    "    .orderBy(desc('DelayRate'))\n",
    "delay_by_day_of_week.show() "
   ]
  },
  {
   "cell_type": "code",
   "execution_count": 26,
   "metadata": {},
   "outputs": [
    {
     "data": {
      "image/png": "[encoded data removed]",
      "text/plain": [
       "<Figure size 1000x600 with 1 Axes>"
      ]
     },
     "metadata": {},
     "output_type": "display_data"
    }
   ],
   "source": [
    "import matplotlib.pyplot as plt\n",
    "\n",
    "delay_by_day_of_week_pd = delay_by_day_of_week.toPandas()\n",
    "\n",
    "days = delay_by_day_of_week_pd['DayOfWeek']\n",
    "delay_rates = delay_by_day_of_week_pd['DelayRate']\n",
    "\n",
    "fig, ax = plt.subplots(figsize=(10, 6))\n",
    "ax.bar(days, delay_rates, color='skyblue', edgecolor='black')\n",
    "\n",
    "ax.set_xlabel('Day of the Week')\n",
    "ax.set_ylabel('Delay Rate')\n",
    "ax.set_title('一周中不同时间延误比例')\n",
    "\n",
    "ax.set_xticks(range(1, 8))\n",
    "ax.set_xticklabels(['Mon', 'Tue', 'Wed', 'Thu', 'Fri', 'Sat', 'Sun'])\n",
    "\n",
    "for i, rate in enumerate(delay_rates):\n",
    "    ax.text(days[i], rate + 0.01, f'{rate:.2%}', ha='center', va='bottom')\n",
    "\n",
    "plt.tight_layout()\n",
    "\n",
    "plt.savefig('delay_rate_by_day_of_week.png', dpi=300)\n",
    "\n",
    "plt.show()"
   ]
  },
  {
   "cell_type": "code",
   "execution_count": 20,
   "metadata": {},
   "outputs": [
    {
     "name": "stderr",
     "output_type": "stream",
     "text": [
      "[Stage 49:===================================================>    (11 + 1) / 12]\r"
     ]
    },
    {
     "name": "stdout",
     "output_type": "stream",
     "text": [
      "+----------+--------------------+\n",
      "|FlightType|    CancellationRate|\n",
      "+----------+--------------------+\n",
      "| ShortHaul|0.013601172842271953|\n",
      "|  LongHaul|0.011058593239437926|\n",
      "+----------+--------------------+\n",
      "\n"
     ]
    },
    {
     "name": "stderr",
     "output_type": "stream",
     "text": [
      "                                                                                \r"
     ]
    }
   ],
   "source": [
    "# 短途航班和长途航班，哪种航班取消更严重？\n",
    "\n",
    "from pyspark.sql.functions import *\n",
    "# 定义短途航班和长途航班, 距离小于500英里为短途，否则为长途\n",
    "df = df.withColumn(\"FlightType\",\n",
    "                   when(col(\"Distance\") < 500, \"ShortHaul\")\n",
    "                   .otherwise(\"LongHaul\"))\n",
    "\n",
    "# 按航班类型分组，计算取消率\n",
    "cancellation_rate = df.groupBy(\"FlightType\") \\\n",
    "                      .agg(avg(\"Cancelled\").alias(\"CancellationRate\"))\n",
    "\n",
    "cancellation_rate.show()"
   ]
  },
  {
   "cell_type": "markdown",
   "metadata": {},
   "source": [
    "### 解释：\n",
    "\n",
    "- **目的**：选择对航班取消预测有潜在影响的特征列。\n",
    "- **特征说明**：\n",
    "    - **时间相关**：`Year`、`Month`、`DayofMonth`、`DayOfWeek`、`DepTime`、`CRSDepTime`、`ArrTime`、`CRSArrTime`。\n",
    "    - **航班信息**：`UniqueCarrier_index`（编码后的航空公司）、`FlightNum`（航班号）。\n",
    "    - **飞行时间**：`ActualElapsedTime`、`CRSElapsedTime`、`AirTime`。\n",
    "    - **延误信息**：`ArrDelay`、`DepDelay`。\n",
    "    - **机场信息**：`Origin_index`、`Dest_index`（编码后的出发地和目的地机场）。\n",
    "    - **距离和地面时间**：`Distance`、`TaxiIn`、`TaxiOut`。\n",
    "    - **其他信息**：`Diverted`（是否改航）、`CarrierDelay`、`WeatherDelay`、`NASDelay`、`SecurityDelay`、`LateAircraftDelay`（各种延误原因）。\n",
    "- **输出**：`feature_columns` 是一个包含所有选定特征列的列表。"
   ]
  },
  {
   "cell_type": "code",
   "execution_count": 25,
   "metadata": {},
   "outputs": [
    {
     "name": "stderr",
     "output_type": "stream",
     "text": [
      "                                                                                \r"
     ]
    },
    {
     "name": "stdout",
     "output_type": "stream",
     "text": [
      "+-----------------------------------------------------+\n",
      "|features                                             |\n",
      "+-----------------------------------------------------+\n",
      "|[10.0,14.0,3.0,7.0,13.0,26.0,6.0,23.0,11.0,447.0,0.0]|\n",
      "|[10.0,15.0,4.0,7.0,13.0,26.0,6.0,14.0,-1.0,447.0,0.0]|\n",
      "|[10.0,17.0,6.0,7.0,13.0,26.0,6.0,29.0,11.0,447.0,0.0]|\n",
      "|[10.0,18.0,7.0,7.0,13.0,26.0,6.0,-2.0,-1.0,447.0,0.0]|\n",
      "|[10.0,19.0,1.0,7.0,13.0,26.0,6.0,33.0,19.0,447.0,0.0]|\n",
      "|[10.0,21.0,3.0,7.0,13.0,26.0,6.0,-1.0,-2.0,447.0,0.0]|\n",
      "|[10.0,22.0,4.0,7.0,13.0,26.0,6.0,3.0,-2.0,447.0,0.0] |\n",
      "|[10.0,23.0,5.0,7.0,13.0,26.0,6.0,13.0,1.0,447.0,0.0] |\n",
      "|[10.0,24.0,6.0,7.0,13.0,26.0,6.0,19.0,14.0,447.0,0.0]|\n",
      "|[10.0,25.0,7.0,7.0,13.0,26.0,6.0,2.0,-1.0,447.0,0.0] |\n",
      "+-----------------------------------------------------+\n",
      "only showing top 10 rows\n",
      "\n"
     ]
    }
   ],
   "source": [
    "from pyspark.sql.types import FloatType, IntegerType\n",
    "from pyspark.sql.functions import col\n",
    "# 编码分类变量\n",
    "from pyspark.ml.feature import StringIndexer\n",
    "from pyspark.ml import Pipeline\n",
    "\n",
    "for column in [\"features\",   \"UniqueCarrier_index\",\"Origin_index\", \"Dest_index\" ]:\n",
    "    if column in df.columns:\n",
    "        df = df.drop(column)\n",
    "\n",
    "indexers = [StringIndexer(inputCol=column, outputCol=column+\"_index\").fit(df) for column in [\"UniqueCarrier\", \"Origin\", \"Dest\"]]\n",
    "\n",
    "stages = []\n",
    "stages += indexers\n",
    "\n",
    "string_columns = [\"DepTime\", \"ArrTime\", \"ActualElapsedTime\", \"CRSElapsedTime\", \n",
    "                  \"AirTime\", \"ArrDelay\", \"DepDelay\", \"Distance\", \"TaxiIn\", \"TaxiOut\",\n",
    "                  \"CarrierDelay\", \"WeatherDelay\", \"NASDelay\", \"SecurityDelay\", \"LateAircraftDelay\"]\n",
    "\n",
    "for column in string_columns:\n",
    "    df = df.withColumn(column, col(column).cast(FloatType()))\n",
    "df = df.na.fill(0, subset=string_columns)\n",
    "df = df.withColumn(\"Cancelled\", col(\"Cancelled\").cast(IntegerType()))\n",
    "# 将特征列组合成特征向量\n",
    "\n",
    "from pyspark.ml.feature import VectorAssembler\n",
    "\n",
    "feature_columns = [\"Month\", \"DayofMonth\", \"DayOfWeek\",\"Hour\",\n",
    "                   \"UniqueCarrier_index\", \"Origin_index\", \"Dest_index\",\n",
    "                   \"ArrDelay\", \"DepDelay\",\n",
    "                   \"Distance\",\n",
    "                   \"Diverted\"]\n",
    "\n",
    "assembler = VectorAssembler(inputCols=feature_columns, outputCol=\"features\")\n",
    "\n",
    "stages.append(assembler)\n",
    "\n",
    "pipeline = Pipeline(stages=stages)\n",
    "df = pipeline.fit(df).transform(df)\n",
    "\n",
    "df.select(\"features\").show(10, truncate=False)"
   ]
  },
  {
   "cell_type": "code",
   "execution_count": 30,
   "metadata": {},
   "outputs": [
    {
     "name": "stderr",
     "output_type": "stream",
     "text": [
      "                                                                                \r"
     ]
    },
    {
     "name": "stdout",
     "output_type": "stream",
     "text": [
      "+--------------------------------------------------------+\n",
      "|features                                                |\n",
      "+--------------------------------------------------------+\n",
      "|[1.0,17.0,3.0,1810.0,4.0,19.0,12.0,-3.0,-4.0,361.0,0.0] |\n",
      "|[1.0,18.0,4.0,1810.0,4.0,19.0,12.0,4.0,-5.0,361.0,0.0]  |\n",
      "|[1.0,19.0,5.0,1810.0,4.0,19.0,12.0,23.0,11.0,361.0,0.0] |\n",
      "|[1.0,20.0,6.0,1810.0,4.0,19.0,12.0,10.0,-3.0,361.0,0.0] |\n",
      "|[1.0,21.0,7.0,1810.0,4.0,19.0,12.0,20.0,0.0,361.0,0.0]  |\n",
      "|[1.0,22.0,1.0,1810.0,4.0,19.0,12.0,-3.0,-3.0,361.0,0.0] |\n",
      "|[1.0,23.0,2.0,1810.0,4.0,19.0,12.0,-10.0,-8.0,361.0,0.0]|\n",
      "|[1.0,24.0,3.0,1810.0,4.0,19.0,12.0,-12.0,-6.0,361.0,0.0]|\n",
      "|[1.0,25.0,4.0,1810.0,4.0,19.0,12.0,-9.0,2.0,361.0,0.0]  |\n",
      "|[1.0,26.0,5.0,1810.0,4.0,19.0,12.0,-1.0,2.0,361.0,0.0]  |\n",
      "+--------------------------------------------------------+\n",
      "only showing top 10 rows\n",
      "\n"
     ]
    }
   ],
   "source": [
    "from pyspark.sql.types import FloatType, IntegerType\n",
    "from pyspark.sql.functions import col\n",
    "# 编码分类变量\n",
    "from pyspark.ml.feature import StringIndexer\n",
    "from pyspark.ml import Pipeline\n",
    "\n",
    "for column in [\"features\",   \"UniqueCarrier_index\",\"Origin_index\", \"Dest_index\" ]:\n",
    "    if column in df2.columns:\n",
    "        df2 = df2.drop(column)\n",
    "\n",
    "indexers = [StringIndexer(inputCol=column, outputCol=column+\"_index\").fit(df2) for column in [\"UniqueCarrier\", \"Origin\", \"Dest\"]]\n",
    "\n",
    "stages = []\n",
    "stages += indexers\n",
    "\n",
    "string_columns = [\"DepTime\", \"ArrTime\", \"ActualElapsedTime\", \"CRSElapsedTime\", \n",
    "                  \"AirTime\", \"ArrDelay\", \"DepDelay\", \"Distance\", \"TaxiIn\", \"TaxiOut\",\n",
    "                  \"CarrierDelay\", \"WeatherDelay\", \"NASDelay\", \"SecurityDelay\", \"LateAircraftDelay\"]\n",
    "\n",
    "for column in string_columns:\n",
    "    df2 = df2.withColumn(column, col(column).cast(FloatType()))\n",
    "df2 = df2.na.fill(0, subset=string_columns)\n",
    "df2 = df2.withColumn(\"Cancelled\", col(\"Cancelled\").cast(IntegerType()))\n",
    "# 将特征列组合成特征向量\n",
    "\n",
    "from pyspark.ml.feature import VectorAssembler\n",
    "\n",
    "feature_columns = [\"Month\", \"DayofMonth\", \"DayOfWeek\",\"Hour\",\n",
    "                   \"UniqueCarrier_index\", \"Origin_index\", \"Dest_index\",\n",
    "                   \"ArrDelay\", \"DepDelay\",\n",
    "                   \"Distance\",\n",
    "                   \"Diverted\"]\n",
    "\n",
    "assembler = VectorAssembler(inputCols=feature_columns, outputCol=\"features\")\n",
    "\n",
    "stages.append(assembler)\n",
    "\n",
    "pipeline = Pipeline(stages=stages)\n",
    "df2 = pipeline.fit(df2).transform(df2)\n",
    "\n",
    "df2.select(\"features\").show(10, truncate=False)"
   ]
  },
  {
   "cell_type": "code",
   "execution_count": 21,
   "metadata": {},
   "outputs": [],
   "source": [
    "train_data, test_data = df.randomSplit([0.8, 0.2], seed=2021091201012)"
   ]
  },
  {
   "cell_type": "code",
   "execution_count": 22,
   "metadata": {},
   "outputs": [],
   "source": [
    "# 划分训练集和测试集\n",
    "train_data = df\n",
    "test_data = df2"
   ]
  },
  {
   "cell_type": "code",
   "execution_count": 49,
   "metadata": {},
   "outputs": [
    {
     "name": "stderr",
     "output_type": "stream",
     "text": [
      "                                                                                \r"
     ]
    },
    {
     "name": "stdout",
     "output_type": "stream",
     "text": [
      "+--------------------+--------------------+----------+---------+\n",
      "|            features|       rawPrediction|prediction|Cancelled|\n",
      "+--------------------+--------------------+----------+---------+\n",
      "|[1.0,17.0,3.0,181...|[1.00000145349568...|       0.0|        0|\n",
      "|[1.0,18.0,4.0,181...|[1.00000140018609...|       0.0|        0|\n",
      "|[1.0,19.0,5.0,181...|[1.00000139545426...|       0.0|        0|\n",
      "|[1.0,20.0,6.0,181...|[1.00000126118172...|       0.0|        0|\n",
      "|[1.0,21.0,7.0,181...|[1.00000122001657...|       0.0|        0|\n",
      "|[1.0,22.0,1.0,181...|[1.00000192451147...|       0.0|        0|\n",
      "|[1.0,23.0,2.0,181...|[1.00000181452782...|       0.0|        0|\n",
      "|[1.0,24.0,3.0,181...|[1.00000172478490...|       0.0|        0|\n",
      "|[1.0,25.0,4.0,181...|[1.00000165528271...|       0.0|        0|\n",
      "|[1.0,26.0,5.0,181...|[1.00000160602126...|       0.0|        0|\n",
      "|[1.0,27.0,6.0,181...|[1.00000150413390...|       0.0|        0|\n",
      "|[1.0,28.0,7.0,181...|[1.00000144677616...|       0.0|        0|\n",
      "|[1.0,29.0,1.0,181...|[1.00000219580069...|       0.0|        0|\n",
      "|[1.0,30.0,2.0,181...|[1.00000213439480...|       0.0|        0|\n",
      "|[1.0,31.0,3.0,181...|[1.00000204060373...|       0.0|        0|\n",
      "|[1.0,1.0,1.0,940....|[1.00000088359217...|       0.0|        0|\n",
      "|[1.0,2.0,2.0,940....|[1.00000111770102...|       0.0|        0|\n",
      "|[1.0,3.0,3.0,940....|[1.00000063123968...|       0.0|        0|\n",
      "|[1.0,4.0,4.0,940....|[1.00000052935232...|       0.0|        0|\n",
      "|[1.0,5.0,5.0,940....|[1.00000041532052...|       0.0|        0|\n",
      "+--------------------+--------------------+----------+---------+\n",
      "only showing top 20 rows\n",
      "\n"
     ]
    },
    {
     "name": "stderr",
     "output_type": "stream",
     "text": [
      "[Stage 4424:=================================================>    (11 + 1) / 12]\r"
     ]
    },
    {
     "name": "stdout",
     "output_type": "stream",
     "text": [
      "SVM 模型的准确率为: 0.9613\n",
      "SVM 模型的召回率为: 0.9613\n",
      "SVM 模型的 AUC 值为: 0.5394\n"
     ]
    },
    {
     "name": "stderr",
     "output_type": "stream",
     "text": [
      "                                                                                \r"
     ]
    }
   ],
   "source": [
    "from pyspark.ml.classification import LinearSVC\n",
    "from pyspark.ml.evaluation import MulticlassClassificationEvaluator, BinaryClassificationEvaluator\n",
    "\n",
    "\n",
    "svm = LinearSVC(featuresCol=\"features\", labelCol=\"Cancelled\")\n",
    "svm_model = svm.fit(train_data)\n",
    "\n",
    "# 在测试集上进行预测\n",
    "svm_predictions = svm_model.transform(test_data)\n",
    "svm_predictions.select([\"features\", \"rawPrediction\", \"prediction\", \"Cancelled\"]).show()\n",
    "# 评估模型性能\n",
    "evaluator_accuracy = MulticlassClassificationEvaluator(labelCol=\"Cancelled\", predictionCol=\"prediction\", metricName=\"accuracy\")\n",
    "evaluator_recall = MulticlassClassificationEvaluator(labelCol=\"Cancelled\", predictionCol=\"prediction\", metricName=\"weightedRecall\")\n",
    "evaluator_auc = BinaryClassificationEvaluator(labelCol=\"Cancelled\", rawPredictionCol=\"rawPrediction\", metricName=\"areaUnderROC\")\n",
    "\n",
    "svm_accuracy = evaluator_accuracy.evaluate(svm_predictions)\n",
    "svm_recall = evaluator_recall.evaluate(svm_predictions)\n",
    "svm_auc = evaluator_auc.evaluate(svm_predictions)\n",
    "\n",
    "print(f\"SVM 模型的准确率为: {svm_accuracy:.4f}\")\n",
    "print(f\"SVM 模型的召回率为: {svm_recall:.4f}\")\n",
    "print(f\"SVM 模型的 AUC 值为: {svm_auc:.4f}\")"
   ]
  },
  {
   "cell_type": "code",
   "execution_count": 53,
   "metadata": {},
   "outputs": [
    {
     "name": "stdout",
     "output_type": "stream",
     "text": [
      "+----+-----+----------+---------+-------+----------+-------+----------+-------------+---------+-------+-----------------+--------------+-------+--------+--------+------+----+--------+------+-------+---------+----------------+--------+------------+------------+--------+-------------+-----------------+-------------------+------------+----------+--------------------+--------------------+----------+\n",
      "|Year|Month|DayofMonth|DayOfWeek|DepTime|CRSDepTime|ArrTime|CRSArrTime|UniqueCarrier|FlightNum|TailNum|ActualElapsedTime|CRSElapsedTime|AirTime|ArrDelay|DepDelay|Origin|Dest|Distance|TaxiIn|TaxiOut|Cancelled|CancellationCode|Diverted|CarrierDelay|WeatherDelay|NASDelay|SecurityDelay|LateAircraftDelay|UniqueCarrier_index|Origin_index|Dest_index|            features|       rawPrediction|prediction|\n",
      "+----+-----+----------+---------+-------+----------+-------+----------+-------------+---------+-------+-----------------+--------------+-------+--------+--------+------+----+--------+------+-------+---------+----------------+--------+------------+------------+--------+-------------+-----------------+-------------------+------------+----------+--------------------+--------------------+----------+\n",
      "|2001|    1|        17|        3| 1806.0|      1810| 1931.0|      1934|           US|      375| N700��|             85.0|          84.0|   60.0|    -3.0|    -4.0|   BWI| CLT|   361.0|   5.0|   20.0|        0|              NA|       0|         0.0|         0.0|     0.0|          0.0|              0.0|                4.0|        19.0|      12.0|[1.0,17.0,3.0,181...|[1.00000145349568...|       0.0|\n",
      "|2001|    1|        18|        4| 1805.0|      1810| 1938.0|      1934|           US|      375| N713��|             93.0|          84.0|   64.0|     4.0|    -5.0|   BWI| CLT|   361.0|   9.0|   20.0|        0|              NA|       0|         0.0|         0.0|     0.0|          0.0|              0.0|                4.0|        19.0|      12.0|[1.0,18.0,4.0,181...|[1.00000140018609...|       0.0|\n",
      "|2001|    1|        19|        5| 1821.0|      1810| 1957.0|      1934|           US|      375| N702��|             96.0|          84.0|   80.0|    23.0|    11.0|   BWI| CLT|   361.0|   6.0|   10.0|        0|              NA|       0|         0.0|         0.0|     0.0|          0.0|              0.0|                4.0|        19.0|      12.0|[1.0,19.0,5.0,181...|[1.00000139545426...|       0.0|\n",
      "|2001|    1|        20|        6| 1807.0|      1810| 1944.0|      1934|           US|      375| N701��|             97.0|          84.0|   66.0|    10.0|    -3.0|   BWI| CLT|   361.0|   4.0|   27.0|        0|              NA|       0|         0.0|         0.0|     0.0|          0.0|              0.0|                4.0|        19.0|      12.0|[1.0,20.0,6.0,181...|[1.00000126118172...|       0.0|\n",
      "|2001|    1|        21|        7| 1810.0|      1810| 1954.0|      1934|           US|      375| N768��|            104.0|          84.0|   62.0|    20.0|     0.0|   BWI| CLT|   361.0|   4.0|   38.0|        0|              NA|       0|         0.0|         0.0|     0.0|          0.0|              0.0|                4.0|        19.0|      12.0|[1.0,21.0,7.0,181...|[1.00000122001657...|       0.0|\n",
      "|2001|    1|        22|        1| 1807.0|      1810| 1931.0|      1934|           US|      375| N722��|             84.0|          84.0|   61.0|    -3.0|    -3.0|   BWI| CLT|   361.0|  12.0|   11.0|        0|              NA|       0|         0.0|         0.0|     0.0|          0.0|              0.0|                4.0|        19.0|      12.0|[1.0,22.0,1.0,181...|[1.00000192451147...|       0.0|\n",
      "|2001|    1|        23|        2| 1802.0|      1810| 1924.0|      1934|           US|      375| N732��|             82.0|          84.0|   61.0|   -10.0|    -8.0|   BWI| CLT|   361.0|   5.0|   16.0|        0|              NA|       0|         0.0|         0.0|     0.0|          0.0|              0.0|                4.0|        19.0|      12.0|[1.0,23.0,2.0,181...|[1.00000181452782...|       0.0|\n",
      "|2001|    1|        24|        3| 1804.0|      1810| 1922.0|      1934|           US|      375| N737��|             78.0|          84.0|   60.0|   -12.0|    -6.0|   BWI| CLT|   361.0|   4.0|   14.0|        0|              NA|       0|         0.0|         0.0|     0.0|          0.0|              0.0|                4.0|        19.0|      12.0|[1.0,24.0,3.0,181...|[1.00000172478490...|       0.0|\n",
      "|2001|    1|        25|        4| 1812.0|      1810| 1925.0|      1934|           US|      375| N767��|             73.0|          84.0|   52.0|    -9.0|     2.0|   BWI| CLT|   361.0|   6.0|   15.0|        0|              NA|       0|         0.0|         0.0|     0.0|          0.0|              0.0|                4.0|        19.0|      12.0|[1.0,25.0,4.0,181...|[1.00000165528271...|       0.0|\n",
      "|2001|    1|        26|        5| 1812.0|      1810| 1933.0|      1934|           US|      375| N706��|             81.0|          84.0|   62.0|    -1.0|     2.0|   BWI| CLT|   361.0|   4.0|   15.0|        0|              NA|       0|         0.0|         0.0|     0.0|          0.0|              0.0|                4.0|        19.0|      12.0|[1.0,26.0,5.0,181...|[1.00000160602126...|       0.0|\n",
      "|2001|    1|        27|        6| 1812.0|      1810| 1928.0|      1934|           US|      375| N767��|             76.0|          84.0|   62.0|    -6.0|     2.0|   BWI| CLT|   361.0|   4.0|   10.0|        0|              NA|       0|         0.0|         0.0|     0.0|          0.0|              0.0|                4.0|        19.0|      12.0|[1.0,27.0,6.0,181...|[1.00000150413390...|       0.0|\n",
      "|2001|    1|        28|        7| 1804.0|      1810| 1934.0|      1934|           US|      375| N723��|             90.0|          84.0|   55.0|     0.0|    -6.0|   BWI| CLT|   361.0|  24.0|   11.0|        0|              NA|       0|         0.0|         0.0|     0.0|          0.0|              0.0|                4.0|        19.0|      12.0|[1.0,28.0,7.0,181...|[1.00000144677616...|       0.0|\n",
      "|2001|    1|        29|        1| 1802.0|      1810| 1922.0|      1934|           US|      375| N741��|             80.0|          84.0|   60.0|   -12.0|    -8.0|   BWI| CLT|   361.0|   8.0|   12.0|        0|              NA|       0|         0.0|         0.0|     0.0|          0.0|              0.0|                4.0|        19.0|      12.0|[1.0,29.0,1.0,181...|[1.00000219580069...|       0.0|\n",
      "|2001|    1|        30|        2| 1807.0|      1810| 1927.0|      1934|           US|      375| N720��|             80.0|          84.0|   61.0|    -7.0|    -3.0|   BWI| CLT|   361.0|   5.0|   14.0|        0|              NA|       0|         0.0|         0.0|     0.0|          0.0|              0.0|                4.0|        19.0|      12.0|[1.0,30.0,2.0,181...|[1.00000213439480...|       0.0|\n",
      "|2001|    1|        31|        3| 1805.0|      1810| 1924.0|      1934|           US|      375| N769��|             79.0|          84.0|   63.0|   -10.0|    -5.0|   BWI| CLT|   361.0|   5.0|   11.0|        0|              NA|       0|         0.0|         0.0|     0.0|          0.0|              0.0|                4.0|        19.0|      12.0|[1.0,31.0,3.0,181...|[1.00000204060373...|       0.0|\n",
      "|2001|    1|         1|        1| 1000.0|       940| 1112.0|      1054|           US|      376| N300A�|             72.0|          74.0|   53.0|    18.0|    20.0|   PHL| MHT|   290.0|   5.0|   14.0|        0|              NA|       0|         0.0|         0.0|     0.0|          0.0|              0.0|                4.0|        15.0|      72.0|[1.0,1.0,1.0,940....|[1.00000088359217...|       0.0|\n",
      "|2001|    1|         2|        2| 1120.0|       940| 1230.0|      1054|           US|      376| N375��|             70.0|          74.0|   54.0|    96.0|   100.0|   PHL| MHT|   290.0|   7.0|    9.0|        0|              NA|       0|         0.0|         0.0|     0.0|          0.0|              0.0|                4.0|        15.0|      72.0|[1.0,2.0,2.0,940....|[1.00000111770102...|       0.0|\n",
      "|2001|    1|         3|        3|  941.0|       940| 1050.0|      1054|           US|      376| N335��|             69.0|          74.0|   55.0|    -4.0|     1.0|   PHL| MHT|   290.0|   5.0|    9.0|        0|              NA|       0|         0.0|         0.0|     0.0|          0.0|              0.0|                4.0|        15.0|      72.0|[1.0,3.0,3.0,940....|[1.00000063123968...|       0.0|\n",
      "|2001|    1|         4|        4|  938.0|       940| 1045.0|      1054|           US|      376| N387��|             67.0|          74.0|   53.0|    -9.0|    -2.0|   PHL| MHT|   290.0|   3.0|   11.0|        0|              NA|       0|         0.0|         0.0|     0.0|          0.0|              0.0|                4.0|        15.0|      72.0|[1.0,4.0,4.0,940....|[1.00000052935232...|       0.0|\n",
      "|2001|    1|         5|        5|  933.0|       940| 1037.0|      1054|           US|      376| N591��|             64.0|          74.0|   50.0|   -17.0|    -7.0|   PHL| MHT|   290.0|   3.0|   11.0|        0|              NA|       0|         0.0|         0.0|     0.0|          0.0|              0.0|                4.0|        15.0|      72.0|[1.0,5.0,5.0,940....|[1.00000041532052...|       0.0|\n",
      "+----+-----+----------+---------+-------+----------+-------+----------+-------------+---------+-------+-----------------+--------------+-------+--------+--------+------+----+--------+------+-------+---------+----------------+--------+------------+------------+--------+-------------+-----------------+-------------------+------------+----------+--------------------+--------------------+----------+\n",
      "only showing top 20 rows\n",
      "\n",
      "+--------------------+---------+--------------------+----------+\n",
      "|            features|Cancelled|       rawPrediction|prediction|\n",
      "+--------------------+---------+--------------------+----------+\n",
      "|[1.0,17.0,3.0,181...|        0|[1.00000145349568...|       0.0|\n",
      "|[1.0,18.0,4.0,181...|        0|[1.00000140018609...|       0.0|\n",
      "|[1.0,19.0,5.0,181...|        0|[1.00000139545426...|       0.0|\n",
      "|[1.0,20.0,6.0,181...|        0|[1.00000126118172...|       0.0|\n",
      "|[1.0,21.0,7.0,181...|        0|[1.00000122001657...|       0.0|\n",
      "|[1.0,22.0,1.0,181...|        0|[1.00000192451147...|       0.0|\n",
      "|[1.0,23.0,2.0,181...|        0|[1.00000181452782...|       0.0|\n",
      "|[1.0,24.0,3.0,181...|        0|[1.00000172478490...|       0.0|\n",
      "|[1.0,25.0,4.0,181...|        0|[1.00000165528271...|       0.0|\n",
      "|[1.0,26.0,5.0,181...|        0|[1.00000160602126...|       0.0|\n",
      "|[1.0,27.0,6.0,181...|        0|[1.00000150413390...|       0.0|\n",
      "|[1.0,28.0,7.0,181...|        0|[1.00000144677616...|       0.0|\n",
      "|[1.0,29.0,1.0,181...|        0|[1.00000219580069...|       0.0|\n",
      "|[1.0,30.0,2.0,181...|        0|[1.00000213439480...|       0.0|\n",
      "|[1.0,31.0,3.0,181...|        0|[1.00000204060373...|       0.0|\n",
      "|[1.0,1.0,1.0,940....|        0|[1.00000088359217...|       0.0|\n",
      "|[1.0,2.0,2.0,940....|        0|[1.00000111770102...|       0.0|\n",
      "|[1.0,3.0,3.0,940....|        0|[1.00000063123968...|       0.0|\n",
      "|[1.0,4.0,4.0,940....|        0|[1.00000052935232...|       0.0|\n",
      "|[1.0,5.0,5.0,940....|        0|[1.00000041532052...|       0.0|\n",
      "+--------------------+---------+--------------------+----------+\n",
      "only showing top 20 rows\n",
      "\n"
     ]
    }
   ],
   "source": [
    "# DEBUG\n",
    "svm_predictions.show()\n",
    "selected_columns = [\"features\", \"Cancelled\", \"rawPrediction\", \"prediction\"]\n",
    "svm_predictions.select(selected_columns).show()"
   ]
  },
  {
   "cell_type": "code",
   "execution_count": 52,
   "metadata": {},
   "outputs": [
    {
     "name": "stderr",
     "output_type": "stream",
     "text": [
      "[Stage 4447:=================================================>    (11 + 1) / 12]\r"
     ]
    },
    {
     "name": "stdout",
     "output_type": "stream",
     "text": [
      "+--------------------+--------------------+----------+---------+\n",
      "|            features|       rawPrediction|prediction|Cancelled|\n",
      "+--------------------+--------------------+----------+---------+\n",
      "|[1.0,17.0,3.0,181...|[19.7282426159755...|       0.0|        0|\n",
      "|[1.0,18.0,4.0,181...|[19.8165778739159...|       0.0|        0|\n",
      "|[1.0,19.0,5.0,181...|[19.8165778739159...|       0.0|        0|\n",
      "|[1.0,20.0,6.0,181...|[19.8165778739159...|       0.0|        0|\n",
      "|[1.0,21.0,7.0,181...|[19.8165778739159...|       0.0|        0|\n",
      "|[1.0,22.0,1.0,181...|[19.7282426159755...|       0.0|        0|\n",
      "|[1.0,23.0,2.0,181...|[19.7282426159755...|       0.0|        0|\n",
      "|[1.0,24.0,3.0,181...|[19.7282426159755...|       0.0|        0|\n",
      "|[1.0,25.0,4.0,181...|[19.7282426159755...|       0.0|        0|\n",
      "|[1.0,26.0,5.0,181...|[19.7282426159755...|       0.0|        0|\n",
      "+--------------------+--------------------+----------+---------+\n",
      "only showing top 10 rows\n",
      "\n",
      "随机森林模型的准确率为: 0.9613\n",
      "随机森林模型的召回率为: 0.9613\n",
      "随机森林模型的 AUC 值为: 0.9852\n"
     ]
    },
    {
     "name": "stderr",
     "output_type": "stream",
     "text": [
      "                                                                                \r"
     ]
    }
   ],
   "source": [
    "from pyspark.ml.classification import RandomForestClassifier\n",
    "from pyspark.ml.evaluation import MulticlassClassificationEvaluator, BinaryClassificationEvaluator\n",
    "\n",
    "# 初始化随机森林模型\n",
    "rf = RandomForestClassifier(featuresCol=\"features\", labelCol=\"Cancelled\", maxBins=256)\n",
    "\n",
    "rf_model = rf.fit(train_data)\n",
    "\n",
    "rf_predictions = rf_model.transform(test_data)\n",
    "\n",
    "evaluator_accuracy = MulticlassClassificationEvaluator(labelCol=\"Cancelled\", predictionCol=\"prediction\", metricName=\"accuracy\")\n",
    "evaluator_recall = MulticlassClassificationEvaluator(labelCol=\"Cancelled\", predictionCol=\"prediction\", metricName=\"weightedRecall\")\n",
    "evaluator_auc = BinaryClassificationEvaluator(labelCol=\"Cancelled\", rawPredictionCol=\"rawPrediction\", metricName=\"areaUnderROC\")\n",
    "\n",
    "rf_accuracy = evaluator_accuracy.evaluate(rf_predictions)\n",
    "rf_recall = evaluator_recall.evaluate(rf_predictions)\n",
    "rf_auc = evaluator_auc.evaluate(rf_predictions)\n",
    "\n",
    "rf_predictions.select([\"features\", \"rawPrediction\", \"prediction\", \"Cancelled\"]).show(10)\n",
    "print(f\"随机森林模型的准确率为: {rf_accuracy:.4f}\")\n",
    "print(f\"随机森林模型的召回率为: {rf_recall:.4f}\")\n",
    "print(f\"随机森林模型的 AUC 值为: {rf_auc:.4f}\")"
   ]
  },
  {
   "cell_type": "markdown",
   "metadata": {},
   "source": [
    "# 线性判别分析\n",
    "\n",
    "在 PySpark 中，线性判别分析（Linear Discriminant Analysis, LDA） 主要用于降维，而不是分类。PySpark 的 MLlib 提供了 LinearDiscriminantAnalysis 类来实现 LDA 降维。如果你需要将 LDA 用于分类任务，可以结合其他分类器（如逻辑回归）来实现。\n",
    "\n",
    "以下是使用 线性判别分析（LDA） 进行降维，并结合逻辑回归进行分类的完整代码示例：\n",
    "\n",
    "1. 使用 LDA 进行降维\n",
    "首先，使用 LDA 将高维特征降维到低维空间。\n",
    "\n",
    "2. 结合逻辑回归进行分类\n",
    "将 LDA 降维后的特征作为输入，使用逻辑回归进行分类。"
   ]
  },
  {
   "cell_type": "code",
   "execution_count": 59,
   "metadata": {},
   "outputs": [
    {
     "name": "stderr",
     "output_type": "stream",
     "text": [
      "                                                                                \r"
     ]
    },
    {
     "name": "stdout",
     "output_type": "stream",
     "text": [
      "+--------------------+--------------------+----------+---------+\n",
      "|            features|       rawPrediction|prediction|Cancelled|\n",
      "+--------------------+--------------------+----------+---------+\n",
      "|[1.0,17.0,3.0,181...|[1.32592221604603...|       0.0|        0|\n",
      "|[1.0,18.0,4.0,181...|[1.32590267852133...|       0.0|        0|\n",
      "|[1.0,19.0,5.0,181...|[1.32590267852134...|       0.0|        0|\n",
      "|[1.0,20.0,6.0,181...|[1.32590267852133...|       0.0|        0|\n",
      "|[1.0,21.0,7.0,181...|[1.32590267852134...|       0.0|        0|\n",
      "|[1.0,22.0,1.0,181...|[1.32592221604603...|       0.0|        0|\n",
      "|[1.0,23.0,2.0,181...|[1.32592221604603...|       0.0|        0|\n",
      "|[1.0,24.0,3.0,181...|[1.32592221604603...|       0.0|        0|\n",
      "|[1.0,25.0,4.0,181...|[1.32592221604603...|       0.0|        0|\n",
      "|[1.0,26.0,5.0,181...|[1.32592221604603...|       0.0|        0|\n",
      "+--------------------+--------------------+----------+---------+\n",
      "only showing top 10 rows\n",
      "\n",
      "GBT 模型的准确率为: 0.9695\n",
      "GBT 模型的召回率为: 0.9695\n",
      "GBT 模型的 AUC 值为: 0.9963\n"
     ]
    }
   ],
   "source": [
    "from pyspark.ml.classification import GBTClassifier\n",
    "from pyspark.ml.evaluation import MulticlassClassificationEvaluator, BinaryClassificationEvaluator\n",
    "\n",
    "gbt = GBTClassifier(featuresCol=\"features\", labelCol=\"Cancelled\", maxIter=10, maxBins=256)\n",
    "gbt_model = gbt.fit(train_data)\n",
    "\n",
    "gbt_predictions = gbt_model.transform(test_data)\n",
    "\n",
    "evaluator_accuracy = MulticlassClassificationEvaluator(labelCol=\"Cancelled\", predictionCol=\"prediction\", metricName=\"accuracy\")\n",
    "evaluator_recall = MulticlassClassificationEvaluator(labelCol=\"Cancelled\", predictionCol=\"prediction\", metricName=\"weightedRecall\")\n",
    "evaluator_auc = BinaryClassificationEvaluator(labelCol=\"Cancelled\", rawPredictionCol=\"rawPrediction\", metricName=\"areaUnderROC\")\n",
    "\n",
    "gbt_accuracy = evaluator_accuracy.evaluate(gbt_predictions)\n",
    "gbt_recall = evaluator_recall.evaluate(gbt_predictions)\n",
    "gbt_auc = evaluator_auc.evaluate(gbt_predictions)\n",
    "\n",
    "gbt_predictions.select(\"features\", \"rawPrediction\", \"prediction\", \"Cancelled\").show(10)\n",
    "\n",
    "print(f\"GBT 模型的准确率为: {gbt_accuracy:.4f}\")\n",
    "print(f\"GBT 模型的召回率为: {gbt_recall:.4f}\")\n",
    "print(f\"GBT 模型的 AUC 值为: {gbt_auc:.4f}\")"
   ]
  }
 ],
 "metadata": {
  "kernelspec": {
   "display_name": "Python 3 (ipykernel)",
   "language": "python",
   "name": "python3"
  },
  "language_info": {
   "codemirror_mode": {
    "name": "ipython",
    "version": 3
   },
   "file_extension": ".py",
   "mimetype": "text/x-python",
   "name": "python",
   "nbconvert_exporter": "python",
   "pygments_lexer": "ipython3",
   "version": "3.12.7"
  }
 },
 "nbformat": 4,
 "nbformat_minor": 2
}
